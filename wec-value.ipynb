{
 "cells": [
  {
   "cell_type": "code",
   "execution_count": null,
   "id": "3cd6efdc",
   "metadata": {},
   "outputs": [],
   "source": [
    "import mhkit\n",
    "import gridstatus\n",
    "import numpy as np\n",
    "import pandas as pd\n",
    "import matplotlib.pyplot as plt\n",
    "import PySAM.Pvwattsv8 as pv"
   ]
  },
  {
   "cell_type": "code",
   "execution_count": null,
   "id": "db398679",
   "metadata": {},
   "outputs": [],
   "source": [
    "# NDBC data\n",
    "ndbc_data_file = 'NDBC-46022-2021-spectrum.txt'\n",
    "# downloaded from https://www.ndbc.noaa.gov/download_data.php?filename=46022w2021.txt.gz&dir=data/historical/swden/\n",
    "[raw_data, meta] = mhkit.wave.io.ndbc.read_file(ndbc_data_file)\n",
    "wave_data = raw_data.T\n",
    "depth = 419 # m\n",
    "J = mhkit.wave.resource.energy_flux(wave_data,depth) # energy flux, W/m\n",
    "CW = 10 # capture width of WEC, m\n",
    "P = J * CW # power of WEC, W"
   ]
  },
  {
   "cell_type": "code",
   "execution_count": null,
   "id": "65dc8002",
   "metadata": {},
   "outputs": [],
   "source": [
    "# plot NDBC data\n",
    "fig, ax = plt.subplots()\n",
    "ax.scatter(J.index, J.J)\n",
    "ax.plot(J.index, np.full(np.shape(J.index),J.mean(axis=0)), c='red', label='mean')\n",
    "ax.legend()\n",
    "ax.set(xlabel='Time', ylabel='Energy Flux (W/m)', title='NDBC Buoy 46022 in 2021')\n",
    "ax.grid()\n",
    "plt.show()"
   ]
  },
  {
   "cell_type": "code",
   "execution_count": null,
   "id": "d578cbbc",
   "metadata": {},
   "outputs": [],
   "source": [
    "# CAISO data\n",
    "caiso = gridstatus.CAISO()\n",
    "start = pd.Timestamp(\"Jan 1, 2021\").normalize()\n",
    "end = pd.Timestamp(\"Dec 31, 2021\").normalize()\n",
    "#lmp = caiso.get_lmp(start=start, end=end, market='REAL_TIME_HOURLY', \n",
    "#                    locations=[\"EUREKAA_6_N001\"])\n",
    "lmp = pd.read_csv('lmp-eureka-2021.csv',index_col=0)\n",
    "print(lmp)"
   ]
  },
  {
   "cell_type": "code",
   "execution_count": null,
   "id": "92adaf8c",
   "metadata": {},
   "outputs": [],
   "source": [
    "# plot CAISO data\n",
    "fig, ax = plt.subplots()\n",
    "ax.scatter(lmp[\"Time\"], lmp[\"LMP\"])\n",
    "ax.set(xlabel='Time', ylabel='LMP ($/MWh)', title='CAISO Eureka Node 2021')\n",
    "ax.grid()\n",
    "#plt.show()"
   ]
  },
  {
   "cell_type": "code",
   "execution_count": null,
   "id": "c9391781",
   "metadata": {},
   "outputs": [],
   "source": [
    "# solar data\n",
    "system_model = pv.default(\"PVWattsNone\")\n",
    "#system_model.SolarResource.solar_resource_file = filename\n",
    "#system_model.execute()\n",
    "#print(system_model.value('annual_energy_distribution_time'))"
   ]
  },
  {
   "cell_type": "code",
   "execution_count": null,
   "id": "8409a8ef",
   "metadata": {},
   "outputs": [],
   "source": [
    "# value of each energy source\n",
    "resources = ['wave','wind','solar']\n",
    "#energies = np.ones(np.shape(J.index)[0] np.size(resources))\n",
    "#revenue = np.matmul(energies, lmp[\"LMP\"])"
   ]
  }
 ],
 "metadata": {
  "kernelspec": {
   "display_name": "Python 3 (Spyder)",
   "language": "python3",
   "name": "python3"
  },
  "language_info": {
   "codemirror_mode": {
    "name": "ipython",
    "version": 3
   },
   "file_extension": ".py",
   "mimetype": "text/x-python",
   "name": "python",
   "nbconvert_exporter": "python",
   "pygments_lexer": "ipython3",
   "version": "3.9.15"
  }
 },
 "nbformat": 4,
 "nbformat_minor": 5
}
